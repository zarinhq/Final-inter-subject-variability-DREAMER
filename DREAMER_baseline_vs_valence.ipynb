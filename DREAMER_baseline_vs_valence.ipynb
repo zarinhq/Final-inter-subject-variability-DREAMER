{
 "cells": [
  {
   "cell_type": "markdown",
   "id": "9ab4d94e",
   "metadata": {},
   "source": [
    "## Install Dependencies"
   ]
  },
  {
   "cell_type": "code",
   "execution_count": 1,
   "id": "0fcb787f",
   "metadata": {},
   "outputs": [],
   "source": [
    "seed_value = 42\n",
    "import os\n",
    "os.environ['PYTHONHASHSEED']=str(seed_value)"
   ]
  },
  {
   "cell_type": "code",
   "execution_count": 2,
   "id": "5c955316",
   "metadata": {},
   "outputs": [
    {
     "name": "stdout",
     "output_type": "stream",
     "text": [
      "Requirement already satisfied: wfdb in ./miniconda/lib/python3.9/site-packages (4.0.0)\n",
      "Requirement already satisfied: wget in ./miniconda/lib/python3.9/site-packages (3.2)\n",
      "Requirement already satisfied: tqdm in ./miniconda/lib/python3.9/site-packages (4.64.0)\n",
      "Requirement already satisfied: biosppy in ./miniconda/lib/python3.9/site-packages (1.0.0)\n",
      "Requirement already satisfied: imbalanced-learn in ./miniconda/lib/python3.9/site-packages (0.9.1)\n",
      "Requirement already satisfied: seaborn in ./miniconda/lib/python3.9/site-packages (0.12.1)\n",
      "Requirement already satisfied: matplotlib<4.0.0,>=3.2.2 in ./miniconda/lib/python3.9/site-packages (from wfdb) (3.6.2)\n",
      "Requirement already satisfied: numpy<2.0.0,>=1.10.1 in ./miniconda/lib/python3.9/site-packages (from wfdb) (1.23.4)\n",
      "Requirement already satisfied: scipy<2.0.0,>=1.0.0 in ./miniconda/lib/python3.9/site-packages (from wfdb) (1.9.3)\n",
      "Requirement already satisfied: pandas<2.0.0,>=1.0.0 in ./miniconda/lib/python3.9/site-packages (from wfdb) (1.5.1)\n",
      "Requirement already satisfied: requests<3.0.0,>=2.8.1 in ./miniconda/lib/python3.9/site-packages (from wfdb) (2.27.1)\n",
      "Requirement already satisfied: SoundFile<0.12.0,>=0.10.0 in ./miniconda/lib/python3.9/site-packages (from wfdb) (0.11.0)\n",
      "Requirement already satisfied: shortuuid in ./miniconda/lib/python3.9/site-packages (from biosppy) (1.0.11)\n",
      "Requirement already satisfied: joblib in ./miniconda/lib/python3.9/site-packages (from biosppy) (1.2.0)\n",
      "Requirement already satisfied: scikit-learn in ./miniconda/lib/python3.9/site-packages (from biosppy) (1.1.3)\n",
      "Requirement already satisfied: opencv-python in ./miniconda/lib/python3.9/site-packages (from biosppy) (4.6.0.66)\n",
      "Requirement already satisfied: six in ./miniconda/lib/python3.9/site-packages (from biosppy) (1.16.0)\n",
      "Requirement already satisfied: h5py in ./miniconda/lib/python3.9/site-packages (from biosppy) (3.6.0)\n",
      "Requirement already satisfied: bidict in ./miniconda/lib/python3.9/site-packages (from biosppy) (0.22.0)\n",
      "Requirement already satisfied: threadpoolctl>=2.0.0 in ./miniconda/lib/python3.9/site-packages (from imbalanced-learn) (3.1.0)\n",
      "Requirement already satisfied: cycler>=0.10 in ./miniconda/lib/python3.9/site-packages (from matplotlib<4.0.0,>=3.2.2->wfdb) (0.11.0)\n",
      "Requirement already satisfied: contourpy>=1.0.1 in ./miniconda/lib/python3.9/site-packages (from matplotlib<4.0.0,>=3.2.2->wfdb) (1.0.6)\n",
      "Requirement already satisfied: python-dateutil>=2.7 in ./miniconda/lib/python3.9/site-packages (from matplotlib<4.0.0,>=3.2.2->wfdb) (2.8.2)\n",
      "Requirement already satisfied: pyparsing>=2.2.1 in ./miniconda/lib/python3.9/site-packages (from matplotlib<4.0.0,>=3.2.2->wfdb) (3.0.9)\n",
      "Requirement already satisfied: kiwisolver>=1.0.1 in ./miniconda/lib/python3.9/site-packages (from matplotlib<4.0.0,>=3.2.2->wfdb) (1.4.4)\n",
      "Requirement already satisfied: pillow>=6.2.0 in ./miniconda/lib/python3.9/site-packages (from matplotlib<4.0.0,>=3.2.2->wfdb) (9.3.0)\n",
      "Requirement already satisfied: packaging>=20.0 in ./miniconda/lib/python3.9/site-packages (from matplotlib<4.0.0,>=3.2.2->wfdb) (21.3)\n",
      "Requirement already satisfied: fonttools>=4.22.0 in ./miniconda/lib/python3.9/site-packages (from matplotlib<4.0.0,>=3.2.2->wfdb) (4.38.0)\n",
      "Requirement already satisfied: pytz>=2020.1 in ./miniconda/lib/python3.9/site-packages (from pandas<2.0.0,>=1.0.0->wfdb) (2022.6)\n",
      "Requirement already satisfied: urllib3<1.27,>=1.21.1 in ./miniconda/lib/python3.9/site-packages (from requests<3.0.0,>=2.8.1->wfdb) (1.26.9)\n",
      "Requirement already satisfied: charset-normalizer~=2.0.0 in ./miniconda/lib/python3.9/site-packages (from requests<3.0.0,>=2.8.1->wfdb) (2.0.4)\n",
      "Requirement already satisfied: idna<4,>=2.5 in ./miniconda/lib/python3.9/site-packages (from requests<3.0.0,>=2.8.1->wfdb) (3.3)\n",
      "Requirement already satisfied: certifi>=2017.4.17 in ./miniconda/lib/python3.9/site-packages (from requests<3.0.0,>=2.8.1->wfdb) (2022.9.24)\n",
      "Requirement already satisfied: cffi>=1.0 in ./miniconda/lib/python3.9/site-packages (from SoundFile<0.12.0,>=0.10.0->wfdb) (1.15.0)\n",
      "Requirement already satisfied: pycparser in ./miniconda/lib/python3.9/site-packages (from cffi>=1.0->SoundFile<0.12.0,>=0.10.0->wfdb) (2.21)\n",
      "Note: you may need to restart the kernel to use updated packages.\n"
     ]
    }
   ],
   "source": [
    "pip install wfdb wget tqdm biosppy imbalanced-learn seaborn"
   ]
  },
  {
   "cell_type": "markdown",
   "id": "c6e2be47",
   "metadata": {},
   "source": [
    "## Importing Libraries"
   ]
  },
  {
   "cell_type": "code",
   "execution_count": 3,
   "id": "eb484014",
   "metadata": {},
   "outputs": [],
   "source": [
    "import tensorflow as tf\n",
    "import matplotlib.pyplot as plt\n",
    "import pandas as pd\n",
    "import numpy as np\n",
    "from glob import glob\n",
    "import wget\n",
    "import math\n",
    "import zipfile\n",
    "import wfdb as wf\n",
    "import pickle\n",
    "import sys\n",
    "import datetime\n",
    "import cv2\n",
    "import random\n",
    "import scipy.io\n",
    "import itertools\n",
    "import random as python_random\n",
    "from scipy import signal\n",
    "from scipy.signal import resample\n",
    "from scipy.signal import find_peaks\n",
    "from pathlib import Path\n",
    "from sklearn.model_selection import train_test_split\n",
    "from collections import Counter\n",
    "from sklearn.preprocessing import LabelEncoder\n",
    "from imblearn.over_sampling import SMOTE"
   ]
  },
  {
   "cell_type": "code",
   "execution_count": 4,
   "id": "353c7e76",
   "metadata": {},
   "outputs": [],
   "source": [
    "def reset_random_seeds():\n",
    "   os.environ['PYTHONHASHSEED']=str(seed_value)\n",
    "   tf.random.set_seed(seed_value)\n",
    "   np.random.seed(seed_value)\n",
    "   random.seed(seed_value)"
   ]
  },
  {
   "cell_type": "code",
   "execution_count": 5,
   "id": "f7aebb72",
   "metadata": {},
   "outputs": [
    {
     "name": "stdout",
     "output_type": "stream",
     "text": [
      "7\n",
      "0.6394267984578837\n",
      "Metal device set to: Apple M1\n",
      "tf.Tensor([0.6645621], shape=(1,), dtype=float32)\n"
     ]
    },
    {
     "name": "stderr",
     "output_type": "stream",
     "text": [
      "2023-06-09 16:03:17.174600: I tensorflow/core/common_runtime/pluggable_device/pluggable_device_factory.cc:306] Could not identify NUMA node of platform GPU ID 0, defaulting to 0. Your kernel may not have been built with NUMA support.\n",
      "2023-06-09 16:03:17.174685: I tensorflow/core/common_runtime/pluggable_device/pluggable_device_factory.cc:272] Created TensorFlow device (/job:localhost/replica:0/task:0/device:GPU:0 with 0 MB memory) -> physical PluggableDevice (device: 0, name: METAL, pci bus id: <undefined>)\n"
     ]
    }
   ],
   "source": [
    "np.random.seed(seed_value)\n",
    "vec = np.random.randint(1, 10)\n",
    "print(vec)\n",
    "random.seed(42)\n",
    "print(random.random())\n",
    "tf.random.set_seed(42)\n",
    "print(tf.random.uniform([1])) "
   ]
  },
  {
   "cell_type": "markdown",
   "id": "4c82a250",
   "metadata": {},
   "source": [
    "## Extracting Data"
   ]
  },
  {
   "cell_type": "code",
   "execution_count": 6,
   "id": "00ddfd59",
   "metadata": {},
   "outputs": [],
   "source": [
    "# all_subject_ids = [0, 1, 2, 3, 4, 5, 6, 7, 8, 9, 10, 11, 12, 13, 14, 15, 16, 17, 19, 20, 21, 22]\n",
    "test_subject = [22]\n",
    "rest_subjects = [0, 1, 2, 3, 4, 5, 6, 7, 8, 9, 10, 11, 12, 13, 14, 15, 16, 17, 19, 20, 21]"
   ]
  },
  {
   "cell_type": "code",
   "execution_count": 7,
   "id": "8d37d71c",
   "metadata": {},
   "outputs": [],
   "source": [
    "SOURCE_PATH = 'DREAMER.mat'\n",
    "\n",
    "def load_data(subject_id): \n",
    "    basl_left = []\n",
    "    valence_left = []\n",
    "    arousal_left = []\n",
    "    \n",
    "    data_file = scipy.io.loadmat(SOURCE_PATH)\n",
    "    \n",
    "    valence_path = (data_file[\"DREAMER\"][0, 0][\"Data\"][0, subject_id][\"ScoreValence\"][0, 0])\n",
    "    arousal_path = (data_file[\"DREAMER\"][0, 0][\"Data\"][0, subject_id][\"ScoreArousal\"][0, 0])\n",
    "    \n",
    "    print('Loading data for S'+ str(subject_id))\n",
    "    \n",
    "    for video in range(0, 18):\n",
    "        basl_left.append(data_file[\"DREAMER\"][0, 0][\"Data\"]\n",
    "                    [0, subject_id][\"ECG\"][0, 0]\n",
    "                    [\"baseline\"][0, 0][video, 0][:, 0])\n",
    "        stim_left = (data_file[\"DREAMER\"][0, 0][\"Data\"]\n",
    "                         [0, subject_id][\"ECG\"][0, 0]\n",
    "                         [\"stimuli\"][0, 0][video, 0][:, 0])\n",
    "\n",
    "        if (valence_path[video, 0] > arousal_path[video, 0]):\n",
    "            valence_left.append(stim_left)\n",
    "        else:\n",
    "            if (valence_path[video, 0] < arousal_path[video, 0]):\n",
    "                arousal_left.append(stim_left)\n",
    "            \n",
    "    Full_basl_left = list(itertools.chain.from_iterable(basl_left))\n",
    "    Full_valence_left = list(itertools.chain.from_iterable(valence_left))\n",
    "    Full_arousal_left = list(itertools.chain.from_iterable(arousal_left))\n",
    "    \n",
    "            \n",
    "    return Full_basl_left, Full_valence_left, Full_arousal_left"
   ]
  },
  {
   "cell_type": "markdown",
   "id": "a9ee5790",
   "metadata": {},
   "source": [
    "##  Data Preprocesssing"
   ]
  },
  {
   "cell_type": "code",
   "execution_count": 8,
   "id": "d50ef6da",
   "metadata": {},
   "outputs": [],
   "source": [
    "# config\n",
    "debug = False;"
   ]
  },
  {
   "cell_type": "code",
   "execution_count": 9,
   "id": "9d4027d5",
   "metadata": {},
   "outputs": [],
   "source": [
    "def generateData(subject_ids):\n",
    "    all_subject_data = np.array([]);\n",
    "    all_subject_labels = np.array([]);\n",
    "    \n",
    "    for subject_id in subject_ids:\n",
    "        if(debug): print(\"Processing subject id: \", subject_id);\n",
    "        signal_data = load_data(subject_id)\n",
    "        \n",
    "        ecg_baseline = signal_data[0]\n",
    "        ecg_valence = signal_data[1]\n",
    "        ecg_arousal = signal_data[2]\n",
    "        \n",
    "        \n",
    "        if(debug):\n",
    "            print(\"Raw ecg_baseline:\", ecg_baseline)\n",
    "            print(\"Raw ecg_valence:\", ecg_valence)\n",
    "            print(\"Raw ecg_arousal:\", ecg_arousal)\n",
    "            \n",
    "        ecg_baseline_data = np.array(ecg_baseline)\n",
    "        ecg_valence_data = np.array(ecg_valence)\n",
    "        ecg_arousal_data = np.array(ecg_arousal)\n",
    "        \n",
    "        if(debug):\n",
    "            plt.plot(ecg_baseline_data[0:1000])\n",
    "            plt.show()\n",
    "\n",
    "            plt.plot(ecg_valence_data[0:1000])\n",
    "            plt.show()\n",
    "            \n",
    "            plt.plot(ecg_arousal_data[0:1000])\n",
    "            plt.show()\n",
    "            \n",
    "        if(debug):\n",
    "            print('ecg_baseline_data:', ecg_baseline_data.shape)\n",
    "            print('ecg_valence_data:', ecg_valence_data.shape)\n",
    "            print('ecg_arousal_data:', ecg_arousal_data.shape)\n",
    "            \n",
    "        window_size = 256\n",
    "        window_shift = 256\n",
    "        \n",
    "        heart_beat_base = []\n",
    "        for i in range(0,len(ecg_baseline_data) - window_size,window_shift):\n",
    "            heart_beat_base.append(ecg_baseline_data[i:window_size + i])\n",
    "        heart_beat_base.pop()\n",
    "        \n",
    "        heart_beat_valence = []\n",
    "        for i in range(0,len(ecg_valence_data) - window_size,window_shift):\n",
    "            heart_beat_valence.append(ecg_valence_data[i:window_size + i])\n",
    "        heart_beat_valence.pop()\n",
    "        \n",
    "        \n",
    "        for idx, idxval in enumerate(heart_beat_base):\n",
    "            heart_beat_base[idx] = (heart_beat_base[idx] - heart_beat_base[idx].min()) / heart_beat_base[idx].ptp() # Normalize the readings to a 0-1 range \n",
    "            heart_beat_base[idx] = np.append(heart_beat_base[idx], 0.0) #baseline = 0\n",
    "       \n",
    "        for idx, idxval in enumerate(heart_beat_valence):\n",
    "            heart_beat_valence[idx] = (heart_beat_valence[idx] - heart_beat_valence[idx].min()) / heart_beat_valence[idx].ptp() # Normalize the readings to a 0-1 range \n",
    "            heart_beat_valence[idx] = np.append(heart_beat_valence[idx], 1.0) #valence = 1 \n",
    "            \n",
    "        heart_beat_all = np.concatenate((heart_beat_base, heart_beat_valence), axis=0)\n",
    "        subject_data = np.array(list(heart_beat_all[:]), dtype=float)\n",
    "        \n",
    "        if(all_subject_data.size == 0):\n",
    "            all_subject_data = subject_data\n",
    "        else:\n",
    "            if(subject_data.size != 0):\n",
    "                all_subject_data = np.concatenate((all_subject_data, subject_data), axis=0)\n",
    "\n",
    "        print(\"New data shape\", subject_data.shape, \"Total Shape: \", all_subject_data.shape)\n",
    "        \n",
    "    #SMOTE to balance the data\n",
    "    df_final_data_X = pd.DataFrame(data=all_subject_data[:, :-1])\n",
    "    df_final_data_Y = pd.DataFrame(data=all_subject_data[:,-1])\n",
    "\n",
    "    smote = SMOTE(sampling_strategy='not majority')\n",
    "    X_sm, y_sm = smote.fit_resample(df_final_data_X, df_final_data_Y)\n",
    "    \n",
    "    return X_sm, y_sm"
   ]
  },
  {
   "cell_type": "markdown",
   "id": "79f8a562",
   "metadata": {},
   "source": [
    "## Data Generation - Train"
   ]
  },
  {
   "cell_type": "code",
   "execution_count": 10,
   "id": "238622b4",
   "metadata": {},
   "outputs": [
    {
     "name": "stdout",
     "output_type": "stream",
     "text": [
      "Loading data for S0\n",
      "New data shape (3076, 257) Total Shape:  (3076, 257)\n",
      "Loading data for S1\n",
      "New data shape (2130, 257) Total Shape:  (5206, 257)\n",
      "Loading data for S2\n",
      "New data shape (2303, 257) Total Shape:  (7509, 257)\n",
      "Loading data for S3\n",
      "New data shape (2610, 257) Total Shape:  (10119, 257)\n",
      "Loading data for S4\n",
      "New data shape (2280, 257) Total Shape:  (12399, 257)\n",
      "Loading data for S5\n",
      "New data shape (1563, 257) Total Shape:  (13962, 257)\n",
      "Loading data for S6\n",
      "New data shape (2282, 257) Total Shape:  (16244, 257)\n",
      "Loading data for S7\n",
      "New data shape (2669, 257) Total Shape:  (18913, 257)\n",
      "Loading data for S8\n",
      "New data shape (1762, 257) Total Shape:  (20675, 257)\n",
      "Loading data for S9\n",
      "New data shape (2984, 257) Total Shape:  (23659, 257)\n",
      "Loading data for S10\n",
      "New data shape (2610, 257) Total Shape:  (26269, 257)\n",
      "Loading data for S11\n",
      "New data shape (3110, 257) Total Shape:  (29379, 257)\n",
      "Loading data for S12\n",
      "New data shape (2606, 257) Total Shape:  (31985, 257)\n",
      "Loading data for S13\n",
      "New data shape (2572, 257) Total Shape:  (34557, 257)\n",
      "Loading data for S14\n",
      "New data shape (2478, 257) Total Shape:  (37035, 257)\n",
      "Loading data for S15\n",
      "New data shape (2580, 257) Total Shape:  (39615, 257)\n",
      "Loading data for S16\n",
      "New data shape (2609, 257) Total Shape:  (42224, 257)\n",
      "Loading data for S17\n",
      "New data shape (1762, 257) Total Shape:  (43986, 257)\n",
      "Loading data for S19\n",
      "New data shape (2395, 257) Total Shape:  (46381, 257)\n",
      "Loading data for S20\n",
      "New data shape (1929, 257) Total Shape:  (48310, 257)\n",
      "Loading data for S21\n",
      "New data shape (2883, 257) Total Shape:  (51193, 257)\n"
     ]
    }
   ],
   "source": [
    "train_data, train_labels = generateData(rest_subjects)"
   ]
  },
  {
   "cell_type": "code",
   "execution_count": 11,
   "id": "a4e9897d",
   "metadata": {},
   "outputs": [
    {
     "data": {
      "text/plain": [
       "0.0    28177\n",
       "1.0    28177\n",
       "dtype: int64"
      ]
     },
     "execution_count": 11,
     "metadata": {},
     "output_type": "execute_result"
    }
   ],
   "source": [
    "train_labels.value_counts()"
   ]
  },
  {
   "cell_type": "code",
   "execution_count": 12,
   "id": "bfd849a3",
   "metadata": {},
   "outputs": [
    {
     "name": "stdout",
     "output_type": "stream",
     "text": [
      "Train data shape: (56354, 256)\n",
      "Train labels shape: (56354, 1)\n",
      "Dimension: 2\n"
     ]
    }
   ],
   "source": [
    "print(\"Train data shape:\", train_data.shape)\n",
    "print(\"Train labels shape:\", train_labels.shape)\n",
    "print(\"Dimension:\", train_labels.ndim)"
   ]
  },
  {
   "cell_type": "code",
   "execution_count": 13,
   "id": "f6e79bda",
   "metadata": {},
   "outputs": [],
   "source": [
    "train_labels = pd.DataFrame(train_labels).to_numpy()\n",
    "train_labels = train_labels.reshape(-1)"
   ]
  },
  {
   "cell_type": "code",
   "execution_count": 14,
   "id": "c8c2c25b",
   "metadata": {},
   "outputs": [
    {
     "name": "stdout",
     "output_type": "stream",
     "text": [
      "Train labels shape: (56354,)\n",
      "Dimension: 1\n"
     ]
    }
   ],
   "source": [
    "print(\"Train labels shape:\", train_labels.shape)\n",
    "print(\"Dimension:\", train_labels.ndim)"
   ]
  },
  {
   "cell_type": "markdown",
   "id": "6e738c1a",
   "metadata": {},
   "source": [
    "## Train and Validation data split"
   ]
  },
  {
   "cell_type": "code",
   "execution_count": 15,
   "id": "041b69bb",
   "metadata": {},
   "outputs": [],
   "source": [
    "X_train, X_val, y_train, y_val = train_test_split(train_data, train_labels, test_size=0.3, random_state=42)"
   ]
  },
  {
   "cell_type": "code",
   "execution_count": 16,
   "id": "d0d7c26c",
   "metadata": {},
   "outputs": [],
   "source": [
    "#Reshape train and validation data to (n_samples, 256, 1), where each sample is of size (256, 1)\n",
    "X_train = np.array(X_train).reshape(X_train.shape[0], X_train.shape[1], 1)\n",
    "X_val = np.array(X_val).reshape(X_val.shape[0], X_val.shape[1], 1)"
   ]
  },
  {
   "cell_type": "code",
   "execution_count": 17,
   "id": "4fc160ef",
   "metadata": {},
   "outputs": [
    {
     "name": "stdout",
     "output_type": "stream",
     "text": [
      "size of X_train: (39447, 256, 1)\n",
      "size of X_val: (16907, 256, 1)\n",
      "size of y_train: (39447,)\n",
      "size of y_val: (16907,)\n",
      "Train: Counter({0.0: 19765, 1.0: 19682}) \n",
      "Val: Counter({1.0: 8495, 0.0: 8412})\n"
     ]
    }
   ],
   "source": [
    "print('size of X_train:', X_train.shape)\n",
    "print('size of X_val:', X_val.shape)\n",
    "\n",
    "print('size of y_train:', y_train.shape)\n",
    "print('size of y_val:', y_val.shape)\n",
    "\n",
    "print('Train:', Counter(y_train), '\\nVal:', Counter(y_val))"
   ]
  },
  {
   "cell_type": "markdown",
   "id": "5cb2fd6f",
   "metadata": {},
   "source": [
    "## Data Generation - Test"
   ]
  },
  {
   "cell_type": "code",
   "execution_count": 18,
   "id": "eb56e326",
   "metadata": {},
   "outputs": [
    {
     "name": "stdout",
     "output_type": "stream",
     "text": [
      "Loading data for S22\n",
      "New data shape (2799, 257) Total Shape:  (2799, 257)\n"
     ]
    }
   ],
   "source": [
    "test_data, test_labels = generateData(test_subject)"
   ]
  },
  {
   "cell_type": "code",
   "execution_count": 19,
   "id": "7796c1e6",
   "metadata": {},
   "outputs": [
    {
     "data": {
      "text/plain": [
       "0.0    1703\n",
       "1.0    1703\n",
       "dtype: int64"
      ]
     },
     "execution_count": 19,
     "metadata": {},
     "output_type": "execute_result"
    }
   ],
   "source": [
    "test_labels.value_counts()"
   ]
  },
  {
   "cell_type": "code",
   "execution_count": 20,
   "id": "b9b930c0",
   "metadata": {},
   "outputs": [
    {
     "name": "stdout",
     "output_type": "stream",
     "text": [
      "Test data shape: (3406, 256)\n",
      "Test labels shape: (3406, 1)\n",
      "Dimension: 2\n"
     ]
    }
   ],
   "source": [
    "print(\"Test data shape:\", test_data.shape)\n",
    "print(\"Test labels shape:\", test_labels.shape)\n",
    "print(\"Dimension:\", test_labels.ndim)"
   ]
  },
  {
   "cell_type": "code",
   "execution_count": 21,
   "id": "0cc24ba6",
   "metadata": {},
   "outputs": [],
   "source": [
    "test_labels = pd.DataFrame(test_labels).to_numpy()\n",
    "y_test = test_labels.reshape(-1)"
   ]
  },
  {
   "cell_type": "code",
   "execution_count": 22,
   "id": "cccba9da",
   "metadata": {},
   "outputs": [
    {
     "name": "stdout",
     "output_type": "stream",
     "text": [
      "Test labels shape: (3406,)\n",
      "Dimension: 1\n"
     ]
    }
   ],
   "source": [
    "print(\"Test labels shape:\", y_test.shape)\n",
    "print(\"Dimension:\", y_test.ndim)"
   ]
  },
  {
   "cell_type": "code",
   "execution_count": 23,
   "id": "7c3e44c1",
   "metadata": {},
   "outputs": [],
   "source": [
    "#Reshape test data to (n_samples, 256, 1), where each sample is of size (256, 1)\n",
    "X_test = np.array(test_data).reshape(test_data.shape[0], test_data.shape[1], 1)"
   ]
  },
  {
   "cell_type": "code",
   "execution_count": 24,
   "id": "7b71223b",
   "metadata": {},
   "outputs": [
    {
     "name": "stdout",
     "output_type": "stream",
     "text": [
      "size of X_test: (3406, 256, 1)\n",
      "size of y_test: (3406,)\n",
      "Test: Counter({0.0: 1703, 1.0: 1703})\n"
     ]
    }
   ],
   "source": [
    "print('size of X_test:', X_test.shape)\n",
    "print('size of y_test:', y_test.shape)\n",
    "\n",
    "print('Test:', Counter(y_test))"
   ]
  },
  {
   "cell_type": "markdown",
   "id": "b64c3315",
   "metadata": {},
   "source": [
    "## 1D CNN Model Architecture"
   ]
  },
  {
   "cell_type": "code",
   "execution_count": 25,
   "id": "df9eae32",
   "metadata": {},
   "outputs": [],
   "source": [
    "from tensorflow.keras.models import Sequential\n",
    "from tensorflow.keras.layers import Dense, Flatten, Conv1D, BatchNormalization, MaxPool1D\n",
    "from tensorflow.keras.optimizers import SGD, Adam\n",
    "from tensorflow.keras.callbacks import LearningRateScheduler"
   ]
  },
  {
   "cell_type": "code",
   "execution_count": 26,
   "id": "0203688b",
   "metadata": {},
   "outputs": [
    {
     "name": "stdout",
     "output_type": "stream",
     "text": [
      "Model: \"sequential\"\n",
      "_________________________________________________________________\n",
      " Layer (type)                Output Shape              Param #   \n",
      "=================================================================\n",
      " conv1d (Conv1D)             (None, 256, 5)            30        \n",
      "                                                                 \n",
      " batch_normalization (BatchN  (None, 256, 5)           20        \n",
      " ormalization)                                                   \n",
      "                                                                 \n",
      " max_pooling1d (MaxPooling1D  (None, 128, 5)           0         \n",
      " )                                                               \n",
      "                                                                 \n",
      " batch_normalization_1 (Batc  (None, 128, 5)           20        \n",
      " hNormalization)                                                 \n",
      "                                                                 \n",
      " conv1d_1 (Conv1D)           (None, 128, 10)           260       \n",
      "                                                                 \n",
      " batch_normalization_2 (Batc  (None, 128, 10)          40        \n",
      " hNormalization)                                                 \n",
      "                                                                 \n",
      " max_pooling1d_1 (MaxPooling  (None, 64, 10)           0         \n",
      " 1D)                                                             \n",
      "                                                                 \n",
      " batch_normalization_3 (Batc  (None, 64, 10)           40        \n",
      " hNormalization)                                                 \n",
      "                                                                 \n",
      " conv1d_2 (Conv1D)           (None, 64, 15)            765       \n",
      "                                                                 \n",
      " batch_normalization_4 (Batc  (None, 64, 15)           60        \n",
      " hNormalization)                                                 \n",
      "                                                                 \n",
      " max_pooling1d_2 (MaxPooling  (None, 32, 15)           0         \n",
      " 1D)                                                             \n",
      "                                                                 \n",
      " batch_normalization_5 (Batc  (None, 32, 15)           60        \n",
      " hNormalization)                                                 \n",
      "                                                                 \n",
      " flatten (Flatten)           (None, 480)               0         \n",
      "                                                                 \n",
      " dense (Dense)               (None, 128)               61568     \n",
      "                                                                 \n",
      " dense_1 (Dense)             (None, 1)                 129       \n",
      "                                                                 \n",
      "=================================================================\n",
      "Total params: 62,992\n",
      "Trainable params: 62,872\n",
      "Non-trainable params: 120\n",
      "_________________________________________________________________\n"
     ]
    }
   ],
   "source": [
    "reset_random_seeds()\n",
    "# kernel_regularizer =tf.keras.regularizers.l2(l=0.004)\n",
    "# initializer = tf.keras.initializers.HeUniform()\n",
    "cnn_model = tf.keras.models.Sequential()\n",
    "cnn_model.add(Conv1D(filters=5, kernel_size=(5,), padding='same',  activation='relu', input_shape= (X_train.shape[1],1)))\n",
    "cnn_model.add(BatchNormalization())\n",
    "cnn_model.add(MaxPool1D(pool_size=(2,), strides=2))\n",
    "cnn_model.add(BatchNormalization())\n",
    "cnn_model.add(Conv1D(filters=10, kernel_size=(5,), padding='same', activation='relu', kernel_regularizer =tf.keras.regularizers.l2(l=0.004)))\n",
    "cnn_model.add(BatchNormalization())\n",
    "cnn_model.add(MaxPool1D(pool_size=(2,), strides=2))\n",
    "cnn_model.add(BatchNormalization())\n",
    "cnn_model.add(Conv1D(filters=15, kernel_size=(5,), padding='same', activation='relu', kernel_regularizer =tf.keras.regularizers.l2(l=0.004)))\n",
    "cnn_model.add(BatchNormalization())\n",
    "cnn_model.add(MaxPool1D(pool_size=(2,), strides=2))\n",
    "cnn_model.add(BatchNormalization())\n",
    "cnn_model.add(Flatten())\n",
    "cnn_model.add(Dense(units = 128, activation='relu', kernel_regularizer =tf.keras.regularizers.l2(l=0.004)))\n",
    "cnn_model.add(Dense(units = 1, activation='sigmoid'))\n",
    "cnn_model.summary()"
   ]
  },
  {
   "cell_type": "code",
   "execution_count": 27,
   "id": "5511067f",
   "metadata": {},
   "outputs": [
    {
     "name": "stdout",
     "output_type": "stream",
     "text": [
      "<keras.layers.convolutional.conv1d.Conv1D object at 0x1036be700>\n",
      "[[[ 0.32037407  0.14545935 -0.12637293  0.40248287 -0.3773936 ]]\n",
      "\n",
      " [[ 0.13625014  0.42082787 -0.29702842  0.02127779  0.11695492]]\n",
      "\n",
      " [[-0.36991873 -0.04797933  0.41683322 -0.02652773  0.00263533]]\n",
      "\n",
      " [[ 0.23761892 -0.43037158 -0.27514288  0.01273805 -0.3878015 ]]\n",
      "\n",
      " [[-0.4135429   0.31123072  0.37157005 -0.21238995  0.3215751 ]]]\n",
      "(5, 1, 5)\n",
      "[0. 0. 0. 0. 0.]\n"
     ]
    }
   ],
   "source": [
    "print(cnn_model.layers[0])\n",
    "print(cnn_model.layers[0].get_weights()[0])\n",
    "print(cnn_model.layers[0].get_weights()[0].shape)\n",
    "print(cnn_model.layers[0].get_weights()[1])"
   ]
  },
  {
   "cell_type": "code",
   "execution_count": 28,
   "id": "060a3c44",
   "metadata": {},
   "outputs": [],
   "source": [
    "# weights = 0.001 * (np.random.rand(5, 1, 5))\n",
    "# print(weights)\n",
    "# bias = np.random.rand(5)\n",
    "# print(bias)"
   ]
  },
  {
   "cell_type": "code",
   "execution_count": 29,
   "id": "ee835948",
   "metadata": {},
   "outputs": [],
   "source": [
    "# cnn_model.layers[0].set_weights([weights, bias])"
   ]
  },
  {
   "cell_type": "code",
   "execution_count": 30,
   "id": "f259e3e3",
   "metadata": {},
   "outputs": [],
   "source": [
    "epochs=50\n",
    "batch_size = 32"
   ]
  },
  {
   "cell_type": "code",
   "execution_count": 31,
   "id": "0d28e279",
   "metadata": {},
   "outputs": [],
   "source": [
    "def step_decay(epoch):\n",
    "  initial_lrate = 0.005\n",
    "  drop = 0.6\n",
    "  epochs_drop = 10.0\n",
    "  lrate = initial_lrate * math.pow(drop, math.floor((1+epoch)/epochs_drop))\n",
    "  return lrate\n",
    "\n",
    "lrate = LearningRateScheduler(step_decay)\n",
    "callbacks_list = [lrate]"
   ]
  },
  {
   "cell_type": "code",
   "execution_count": 32,
   "id": "ba4c7385",
   "metadata": {},
   "outputs": [],
   "source": [
    "opt = tf.keras.optimizers.SGD(learning_rate=0.0, momentum=0.6, nesterov=False)\n",
    "\n",
    "cnn_model.compile(optimizer= opt, loss = 'binary_crossentropy', metrics=['accuracy'])"
   ]
  },
  {
   "cell_type": "code",
   "execution_count": 33,
   "id": "eb2c0b5f",
   "metadata": {},
   "outputs": [
    {
     "name": "stdout",
     "output_type": "stream",
     "text": [
      "Epoch 1/50\n"
     ]
    },
    {
     "name": "stderr",
     "output_type": "stream",
     "text": [
      "2023-06-09 16:04:55.306971: W tensorflow/core/platform/profile_utils/cpu_utils.cc:128] Failed to get CPU frequency: 0 Hz\n",
      "2023-06-09 16:04:55.974894: I tensorflow/core/grappler/optimizers/custom_graph_optimizer_registry.cc:114] Plugin optimizer for device_type GPU is enabled.\n",
      "2023-06-09 16:05:25.833944: I tensorflow/core/grappler/optimizers/custom_graph_optimizer_registry.cc:114] Plugin optimizer for device_type GPU is enabled.\n"
     ]
    },
    {
     "name": "stdout",
     "output_type": "stream",
     "text": [
      "1233/1233 - 37s - loss: 1.4921 - accuracy: 0.5159 - val_loss: 1.3851 - val_accuracy: 0.5282 - lr: 0.0050 - 37s/epoch - 30ms/step\n",
      "Epoch 2/50\n",
      "1233/1233 - 36s - loss: 1.3001 - accuracy: 0.5433 - val_loss: 1.3480 - val_accuracy: 0.4989 - lr: 0.0050 - 36s/epoch - 29ms/step\n",
      "Epoch 3/50\n",
      "1233/1233 - 36s - loss: 1.1611 - accuracy: 0.5567 - val_loss: 1.1181 - val_accuracy: 0.5358 - lr: 0.0050 - 36s/epoch - 29ms/step\n",
      "Epoch 4/50\n",
      "1233/1233 - 37s - loss: 1.0527 - accuracy: 0.5687 - val_loss: 1.0494 - val_accuracy: 0.5123 - lr: 0.0050 - 37s/epoch - 30ms/step\n",
      "Epoch 5/50\n",
      "1233/1233 - 37s - loss: 0.9679 - accuracy: 0.5794 - val_loss: 1.4526 - val_accuracy: 0.4978 - lr: 0.0050 - 37s/epoch - 30ms/step\n",
      "Epoch 6/50\n",
      "1233/1233 - 37s - loss: 0.9032 - accuracy: 0.5831 - val_loss: 1.9136 - val_accuracy: 0.4977 - lr: 0.0050 - 37s/epoch - 30ms/step\n",
      "Epoch 7/50\n",
      "1233/1233 - 37s - loss: 0.8525 - accuracy: 0.5855 - val_loss: 0.8504 - val_accuracy: 0.5550 - lr: 0.0050 - 37s/epoch - 30ms/step\n",
      "Epoch 8/50\n",
      "1233/1233 - 37s - loss: 0.8128 - accuracy: 0.5887 - val_loss: 0.9926 - val_accuracy: 0.5045 - lr: 0.0050 - 37s/epoch - 30ms/step\n",
      "Epoch 9/50\n",
      "1233/1233 - 37s - loss: 0.7813 - accuracy: 0.5918 - val_loss: 0.8513 - val_accuracy: 0.5129 - lr: 0.0050 - 37s/epoch - 30ms/step\n",
      "Epoch 10/50\n",
      "1233/1233 - 37s - loss: 0.7552 - accuracy: 0.6032 - val_loss: 0.7998 - val_accuracy: 0.5333 - lr: 0.0030 - 37s/epoch - 30ms/step\n",
      "Epoch 11/50\n",
      "1233/1233 - 37s - loss: 0.7410 - accuracy: 0.6079 - val_loss: 0.7723 - val_accuracy: 0.5524 - lr: 0.0030 - 37s/epoch - 30ms/step\n",
      "Epoch 12/50\n",
      "1233/1233 - 37s - loss: 0.7282 - accuracy: 0.6150 - val_loss: 0.7939 - val_accuracy: 0.5508 - lr: 0.0030 - 37s/epoch - 30ms/step\n",
      "Epoch 13/50\n",
      "1233/1233 - 37s - loss: 0.7180 - accuracy: 0.6139 - val_loss: 0.7541 - val_accuracy: 0.5612 - lr: 0.0030 - 37s/epoch - 30ms/step\n",
      "Epoch 14/50\n",
      "1233/1233 - 37s - loss: 0.7089 - accuracy: 0.6170 - val_loss: 0.7325 - val_accuracy: 0.5782 - lr: 0.0030 - 37s/epoch - 30ms/step\n",
      "Epoch 15/50\n",
      "1233/1233 - 37s - loss: 0.7016 - accuracy: 0.6192 - val_loss: 0.7390 - val_accuracy: 0.5591 - lr: 0.0030 - 37s/epoch - 30ms/step\n",
      "Epoch 16/50\n",
      "1233/1233 - 37s - loss: 0.6938 - accuracy: 0.6231 - val_loss: 1.4950 - val_accuracy: 0.5172 - lr: 0.0030 - 37s/epoch - 30ms/step\n",
      "Epoch 17/50\n",
      "1233/1233 - 37s - loss: 0.6884 - accuracy: 0.6240 - val_loss: 0.8060 - val_accuracy: 0.5573 - lr: 0.0030 - 37s/epoch - 30ms/step\n",
      "Epoch 18/50\n",
      "1233/1233 - 37s - loss: 0.6819 - accuracy: 0.6278 - val_loss: 0.7230 - val_accuracy: 0.5716 - lr: 0.0030 - 37s/epoch - 30ms/step\n",
      "Epoch 19/50\n",
      "1233/1233 - 37s - loss: 0.6768 - accuracy: 0.6315 - val_loss: 0.7167 - val_accuracy: 0.5763 - lr: 0.0030 - 37s/epoch - 30ms/step\n",
      "Epoch 20/50\n",
      "1233/1233 - 37s - loss: 0.6641 - accuracy: 0.6467 - val_loss: 0.7246 - val_accuracy: 0.5786 - lr: 0.0018 - 37s/epoch - 30ms/step\n",
      "Epoch 21/50\n",
      "1233/1233 - 37s - loss: 0.6583 - accuracy: 0.6505 - val_loss: 0.7106 - val_accuracy: 0.5750 - lr: 0.0018 - 37s/epoch - 30ms/step\n",
      "Epoch 22/50\n",
      "1233/1233 - 37s - loss: 0.6560 - accuracy: 0.6508 - val_loss: 0.7132 - val_accuracy: 0.5850 - lr: 0.0018 - 37s/epoch - 30ms/step\n",
      "Epoch 23/50\n",
      "1233/1233 - 37s - loss: 0.6527 - accuracy: 0.6544 - val_loss: 1.1697 - val_accuracy: 0.5126 - lr: 0.0018 - 37s/epoch - 30ms/step\n",
      "Epoch 24/50\n",
      "1233/1233 - 37s - loss: 0.6491 - accuracy: 0.6593 - val_loss: 0.7522 - val_accuracy: 0.5637 - lr: 0.0018 - 37s/epoch - 30ms/step\n",
      "Epoch 25/50\n",
      "1233/1233 - 36s - loss: 0.6450 - accuracy: 0.6648 - val_loss: 0.7339 - val_accuracy: 0.5398 - lr: 0.0018 - 36s/epoch - 30ms/step\n",
      "Epoch 26/50\n",
      "1233/1233 - 37s - loss: 0.6425 - accuracy: 0.6657 - val_loss: 0.7205 - val_accuracy: 0.5611 - lr: 0.0018 - 37s/epoch - 30ms/step\n",
      "Epoch 27/50\n",
      "1233/1233 - 36s - loss: 0.6391 - accuracy: 0.6689 - val_loss: 0.9180 - val_accuracy: 0.5490 - lr: 0.0018 - 36s/epoch - 30ms/step\n",
      "Epoch 28/50\n",
      "1233/1233 - 37s - loss: 0.6360 - accuracy: 0.6703 - val_loss: 0.7129 - val_accuracy: 0.5838 - lr: 0.0018 - 37s/epoch - 30ms/step\n",
      "Epoch 29/50\n",
      "1233/1233 - 37s - loss: 0.6326 - accuracy: 0.6729 - val_loss: 0.7127 - val_accuracy: 0.5793 - lr: 0.0018 - 37s/epoch - 30ms/step\n",
      "Epoch 30/50\n",
      "1233/1233 - 37s - loss: 0.6200 - accuracy: 0.6908 - val_loss: 0.7055 - val_accuracy: 0.5911 - lr: 0.0011 - 37s/epoch - 30ms/step\n",
      "Epoch 31/50\n",
      "1233/1233 - 37s - loss: 0.6158 - accuracy: 0.6940 - val_loss: 0.7216 - val_accuracy: 0.5914 - lr: 0.0011 - 37s/epoch - 30ms/step\n",
      "Epoch 32/50\n",
      "1233/1233 - 36s - loss: 0.6125 - accuracy: 0.6988 - val_loss: 0.7074 - val_accuracy: 0.5971 - lr: 0.0011 - 36s/epoch - 29ms/step\n",
      "Epoch 33/50\n",
      "1233/1233 - 36s - loss: 0.6093 - accuracy: 0.6990 - val_loss: 0.8106 - val_accuracy: 0.5626 - lr: 0.0011 - 36s/epoch - 30ms/step\n",
      "Epoch 34/50\n",
      "1233/1233 - 37s - loss: 0.6067 - accuracy: 0.7041 - val_loss: 0.7126 - val_accuracy: 0.5948 - lr: 0.0011 - 37s/epoch - 30ms/step\n",
      "Epoch 35/50\n",
      "1233/1233 - 36s - loss: 0.6043 - accuracy: 0.7076 - val_loss: 0.7352 - val_accuracy: 0.5762 - lr: 0.0011 - 36s/epoch - 30ms/step\n",
      "Epoch 36/50\n",
      "1233/1233 - 37s - loss: 0.6004 - accuracy: 0.7101 - val_loss: 1.0789 - val_accuracy: 0.5570 - lr: 0.0011 - 37s/epoch - 30ms/step\n",
      "Epoch 37/50\n",
      "1233/1233 - 37s - loss: 0.5989 - accuracy: 0.7129 - val_loss: 0.7258 - val_accuracy: 0.5756 - lr: 0.0011 - 37s/epoch - 30ms/step\n",
      "Epoch 38/50\n",
      "1233/1233 - 37s - loss: 0.5956 - accuracy: 0.7135 - val_loss: 0.7160 - val_accuracy: 0.5882 - lr: 0.0011 - 37s/epoch - 30ms/step\n",
      "Epoch 39/50\n",
      "1233/1233 - 36s - loss: 0.5939 - accuracy: 0.7189 - val_loss: 0.7186 - val_accuracy: 0.5827 - lr: 0.0011 - 36s/epoch - 30ms/step\n",
      "Epoch 40/50\n",
      "1233/1233 - 37s - loss: 0.5796 - accuracy: 0.7333 - val_loss: 0.7147 - val_accuracy: 0.5930 - lr: 6.4800e-04 - 37s/epoch - 30ms/step\n",
      "Epoch 41/50\n",
      "1233/1233 - 37s - loss: 0.5765 - accuracy: 0.7364 - val_loss: 1.0001 - val_accuracy: 0.5639 - lr: 6.4800e-04 - 37s/epoch - 30ms/step\n",
      "Epoch 42/50\n",
      "1233/1233 - 37s - loss: 0.5748 - accuracy: 0.7387 - val_loss: 0.7189 - val_accuracy: 0.5898 - lr: 6.4800e-04 - 37s/epoch - 30ms/step\n",
      "Epoch 43/50\n",
      "1233/1233 - 37s - loss: 0.5708 - accuracy: 0.7419 - val_loss: 0.7322 - val_accuracy: 0.5712 - lr: 6.4800e-04 - 37s/epoch - 30ms/step\n",
      "Epoch 44/50\n",
      "1233/1233 - 37s - loss: 0.5692 - accuracy: 0.7426 - val_loss: 0.7296 - val_accuracy: 0.5777 - lr: 6.4800e-04 - 37s/epoch - 30ms/step\n",
      "Epoch 45/50\n",
      "1233/1233 - 37s - loss: 0.5676 - accuracy: 0.7458 - val_loss: 0.7174 - val_accuracy: 0.5953 - lr: 6.4800e-04 - 37s/epoch - 30ms/step\n",
      "Epoch 46/50\n",
      "1233/1233 - 36s - loss: 0.5642 - accuracy: 0.7469 - val_loss: 0.7264 - val_accuracy: 0.5847 - lr: 6.4800e-04 - 36s/epoch - 29ms/step\n",
      "Epoch 47/50\n",
      "1233/1233 - 36s - loss: 0.5623 - accuracy: 0.7512 - val_loss: 0.7369 - val_accuracy: 0.5892 - lr: 6.4800e-04 - 36s/epoch - 29ms/step\n",
      "Epoch 48/50\n",
      "1233/1233 - 36s - loss: 0.5609 - accuracy: 0.7500 - val_loss: 0.7380 - val_accuracy: 0.5795 - lr: 6.4800e-04 - 36s/epoch - 29ms/step\n",
      "Epoch 49/50\n",
      "1233/1233 - 36s - loss: 0.5563 - accuracy: 0.7569 - val_loss: 0.7289 - val_accuracy: 0.5962 - lr: 6.4800e-04 - 36s/epoch - 29ms/step\n",
      "Epoch 50/50\n",
      "1233/1233 - 36s - loss: 0.5463 - accuracy: 0.7663 - val_loss: 0.7207 - val_accuracy: 0.5945 - lr: 3.8880e-04 - 36s/epoch - 30ms/step\n"
     ]
    }
   ],
   "source": [
    "history = cnn_model.fit(X_train, y_train, epochs = epochs, batch_size = batch_size, validation_data = (X_val, y_val), callbacks=callbacks_list, verbose=2)"
   ]
  },
  {
   "cell_type": "code",
   "execution_count": 34,
   "id": "78134a52",
   "metadata": {},
   "outputs": [
    {
     "data": {
      "image/png": "[encoded data removed]",
      "text/plain": [
       "<Figure size 1200x400 with 2 Axes>"
      ]
     },
     "metadata": {},
     "output_type": "display_data"
    }
   ],
   "source": [
    "f, (ax1, ax2) = plt.subplots(1, 2, figsize=(12, 4))\n",
    "t = f.suptitle('1D CNN Performance', fontsize=12)\n",
    "f.subplots_adjust(top=0.85, wspace=0.3)\n",
    "\n",
    "max_epoch = len(history.history['accuracy'])+1\n",
    "epoch_list = list(range(1,max_epoch))\n",
    "ax1.plot(epoch_list, history.history['accuracy'], label='Train Accuracy')\n",
    "ax1.plot(epoch_list, history.history['val_accuracy'], label='Validation Accuracy')\n",
    "ax1.set_xticks(np.arange(1, max_epoch, 5))\n",
    "ax1.set_ylabel('Accuracy Value')\n",
    "ax1.set_xlabel('Epoch')\n",
    "ax1.set_title('Accuracy')\n",
    "l1 = ax1.legend(loc=\"best\")\n",
    "\n",
    "ax2.plot(epoch_list, history.history['loss'], label='Train Loss')\n",
    "ax2.plot(epoch_list, history.history['val_loss'], label='Validation Loss')\n",
    "ax2.set_xticks(np.arange(1, max_epoch, 5))\n",
    "ax2.set_ylabel('Loss Value')\n",
    "ax2.set_xlabel('Epoch')\n",
    "ax2.set_title('Loss')\n",
    "l2 = ax2.legend(loc=\"best\")"
   ]
  },
  {
   "cell_type": "code",
   "execution_count": 35,
   "id": "ca508f53",
   "metadata": {},
   "outputs": [
    {
     "name": "stdout",
     "output_type": "stream",
     "text": [
      "107/107 [==============================] - 2s 15ms/step - loss: 0.7776 - accuracy: 0.5449\n"
     ]
    },
    {
     "data": {
      "text/plain": [
       "[0.7776341438293457, 0.5449207425117493]"
      ]
     },
     "execution_count": 35,
     "metadata": {},
     "output_type": "execute_result"
    }
   ],
   "source": [
    "cnn_model.evaluate(X_test, y_test)"
   ]
  },
  {
   "cell_type": "markdown",
   "id": "3b4f09f0",
   "metadata": {},
   "source": [
    "## Classification Report"
   ]
  },
  {
   "cell_type": "code",
   "execution_count": 36,
   "id": "be14d738",
   "metadata": {},
   "outputs": [
    {
     "name": "stdout",
     "output_type": "stream",
     "text": [
      "[0. 0. 0. ... 0. 0. 0.]\n"
     ]
    }
   ],
   "source": [
    "print(y_test)"
   ]
  },
  {
   "cell_type": "code",
   "execution_count": 37,
   "id": "bf79c8d4",
   "metadata": {},
   "outputs": [
    {
     "name": "stdout",
     "output_type": "stream",
     "text": [
      " 10/107 [=>............................] - ETA: 0s "
     ]
    },
    {
     "name": "stderr",
     "output_type": "stream",
     "text": [
      "2023-06-09 16:35:36.470476: I tensorflow/core/grappler/optimizers/custom_graph_optimizer_registry.cc:114] Plugin optimizer for device_type GPU is enabled.\n"
     ]
    },
    {
     "name": "stdout",
     "output_type": "stream",
     "text": [
      "107/107 [==============================] - 1s 4ms/step\n"
     ]
    }
   ],
   "source": [
    "from sklearn.metrics import classification_report, confusion_matrix\n",
    "y_test_preds = np.around(cnn_model.predict(X_test))\n",
    "# print(y_test_preds)"
   ]
  },
  {
   "cell_type": "code",
   "execution_count": 38,
   "id": "419655e2",
   "metadata": {},
   "outputs": [
    {
     "name": "stdout",
     "output_type": "stream",
     "text": [
      "[[0.]\n",
      " [1.]\n",
      " [1.]\n",
      " ...\n",
      " [1.]\n",
      " [0.]\n",
      " [0.]]\n"
     ]
    }
   ],
   "source": [
    "print(y_test_preds)"
   ]
  },
  {
   "cell_type": "code",
   "execution_count": 39,
   "id": "02fb65f0",
   "metadata": {},
   "outputs": [
    {
     "data": {
      "text/plain": [
       "(3406, 1)"
      ]
     },
     "execution_count": 39,
     "metadata": {},
     "output_type": "execute_result"
    }
   ],
   "source": [
    "y_test_preds.shape"
   ]
  },
  {
   "cell_type": "code",
   "execution_count": 40,
   "id": "9344fae8",
   "metadata": {},
   "outputs": [],
   "source": [
    "import sklearn.metrics as metrics"
   ]
  },
  {
   "cell_type": "code",
   "execution_count": 41,
   "id": "dedeef7b",
   "metadata": {},
   "outputs": [
    {
     "name": "stdout",
     "output_type": "stream",
     "text": [
      "              precision    recall  f1-score   support\n",
      "\n",
      "         0.0       0.55      0.52      0.53      1703\n",
      "         1.0       0.54      0.57      0.56      1703\n",
      "\n",
      "    accuracy                           0.54      3406\n",
      "   macro avg       0.55      0.54      0.54      3406\n",
      "weighted avg       0.55      0.54      0.54      3406\n",
      "\n"
     ]
    }
   ],
   "source": [
    "print(metrics.classification_report(y_test, y_test_preds))"
   ]
  },
  {
   "cell_type": "code",
   "execution_count": 42,
   "id": "27243ab9",
   "metadata": {},
   "outputs": [],
   "source": [
    "# reset_random_seeds()\n",
    "# # kernel_regularizer =tf.keras.regularizers.l2(l=0.004)\n",
    "# # initializer = tf.keras.initializers.HeUniform()\n",
    "# cnn_model = tf.keras.models.Sequential()\n",
    "# cnn_model.add(Conv1D(filters=5, kernel_size=(5,), padding='same',  activation='relu', input_shape= (X_train.shape[1],1)))\n",
    "# cnn_model.add(BatchNormalization())\n",
    "# cnn_model.add(MaxPool1D(pool_size=(2,), strides=2))\n",
    "# cnn_model.add(BatchNormalization())\n",
    "# cnn_model.add(Conv1D(filters=10, kernel_size=(5,), padding='same', activation='relu', kernel_regularizer =tf.keras.regularizers.l2(l=0.004)))\n",
    "# cnn_model.add(BatchNormalization())\n",
    "# cnn_model.add(MaxPool1D(pool_size=(2,), strides=2))\n",
    "# cnn_model.add(BatchNormalization())\n",
    "# cnn_model.add(Conv1D(filters=15, kernel_size=(5,), padding='same', activation='relu', kernel_regularizer =tf.keras.regularizers.l2(l=0.004)))\n",
    "# cnn_model.add(BatchNormalization())\n",
    "# cnn_model.add(MaxPool1D(pool_size=(2,), strides=2))\n",
    "# cnn_model.add(BatchNormalization())\n",
    "# cnn_model.add(Conv1D(filters=20, kernel_size=(5,), padding='same', activation='relu', kernel_regularizer =tf.keras.regularizers.l2(l=0.004)))\n",
    "# cnn_model.add(BatchNormalization())\n",
    "# cnn_model.add(MaxPool1D(pool_size=(2,), strides=2))\n",
    "# cnn_model.add(BatchNormalization())\n",
    "# cnn_model.add(Flatten())\n",
    "# cnn_model.add(Dense(units = 128, activation='relu', kernel_regularizer =tf.keras.regularizers.l2(l=0.004)))\n",
    "# cnn_model.add(Dense(units = 2, activation='softmax'))\n",
    "# cnn_model.summary()"
   ]
  }
 ],
 "metadata": {
  "kernelspec": {
   "display_name": "Python 3 (ipykernel)",
   "language": "python",
   "name": "python3"
  },
  "language_info": {
   "codemirror_mode": {
    "name": "ipython",
    "version": 3
   },
   "file_extension": ".py",
   "mimetype": "text/x-python",
   "name": "python",
   "nbconvert_exporter": "python",
   "pygments_lexer": "ipython3",
   "version": "3.9.12"
  }
 },
 "nbformat": 4,
 "nbformat_minor": 5
}
